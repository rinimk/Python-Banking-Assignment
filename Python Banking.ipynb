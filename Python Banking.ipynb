{
 "cells": [
  {
   "cell_type": "code",
   "execution_count": 5,
   "id": "c7c5ac9d-0000-48bc-a98b-64956de383d3",
   "metadata": {},
   "outputs": [
    {
     "name": "stdin",
     "output_type": "stream",
     "text": [
      "Enter Username rini\n",
      "Enter Password rini\n"
     ]
    },
    {
     "name": "stdout",
     "output_type": "stream",
     "text": [
      "Successful Login\n",
      "Enter Your Choice(1/2/3/4/5\n",
      "1.Deposit\n",
      "2.Withdraw\n",
      "3.Check Balance\n",
      "4.Display All Accounts\n",
      "5.Savings Account Add Interest\n",
      "6.Exit\n"
     ]
    },
    {
     "name": "stdin",
     "output_type": "stream",
     "text": [
      "Enter any choice 1\n",
      "Enter the Amount to  Deposit 500\n"
     ]
    },
    {
     "name": "stdout",
     "output_type": "stream",
     "text": [
      "500 Deposited Successfully\n",
      "Final Balance is 100500\n",
      "Enter Your Choice(1/2/3/4/5\n",
      "1.Deposit\n",
      "2.Withdraw\n",
      "3.Check Balance\n",
      "4.Display All Accounts\n",
      "5.Savings Account Add Interest\n",
      "6.Exit\n"
     ]
    },
    {
     "name": "stdin",
     "output_type": "stream",
     "text": [
      "Enter any choice 2\n",
      "Enter the Amount for Withdrawal 100\n"
     ]
    },
    {
     "name": "stdout",
     "output_type": "stream",
     "text": [
      "Amount withdrawn Successfully\n",
      "Remaining Balance is 100400\n",
      "Enter Your Choice(1/2/3/4/5\n",
      "1.Deposit\n",
      "2.Withdraw\n",
      "3.Check Balance\n",
      "4.Display All Accounts\n",
      "5.Savings Account Add Interest\n",
      "6.Exit\n"
     ]
    },
    {
     "name": "stdin",
     "output_type": "stream",
     "text": [
      "Enter any choice 3\n"
     ]
    },
    {
     "name": "stdout",
     "output_type": "stream",
     "text": [
      "Balance:100400\n",
      "Enter Your Choice(1/2/3/4/5\n",
      "1.Deposit\n",
      "2.Withdraw\n",
      "3.Check Balance\n",
      "4.Display All Accounts\n",
      "5.Savings Account Add Interest\n",
      "6.Exit\n"
     ]
    },
    {
     "name": "stdin",
     "output_type": "stream",
     "text": [
      "Enter any choice 4\n"
     ]
    },
    {
     "name": "stdout",
     "output_type": "stream",
     "text": [
      "Account Number:123456\n",
      "Account Name:RiniSherin\n",
      "Balance:100400\n",
      "Account Number:Sherin\n",
      "Account Name:560235\n",
      "Balance:200000\n",
      "Enter Your Choice(1/2/3/4/5\n",
      "1.Deposit\n",
      "2.Withdraw\n",
      "3.Check Balance\n",
      "4.Display All Accounts\n",
      "5.Savings Account Add Interest\n",
      "6.Exit\n"
     ]
    },
    {
     "name": "stdin",
     "output_type": "stream",
     "text": [
      "Enter any choice 5\n"
     ]
    },
    {
     "name": "stdout",
     "output_type": "stream",
     "text": [
      "100000.0 Deposited Successfully\n",
      "Final Balance is 300000.0\n",
      "Account Number:Sherin\n",
      "Account Name:560235\n",
      "Balance:300000.0\n",
      "Enter Your Choice(1/2/3/4/5\n",
      "1.Deposit\n",
      "2.Withdraw\n",
      "3.Check Balance\n",
      "4.Display All Accounts\n",
      "5.Savings Account Add Interest\n",
      "6.Exit\n"
     ]
    },
    {
     "name": "stdin",
     "output_type": "stream",
     "text": [
      "Enter any choice 6\n"
     ]
    },
    {
     "name": "stdout",
     "output_type": "stream",
     "text": [
      "Thank you\n"
     ]
    }
   ],
   "source": [
    "#Defining User Login\n",
    "class login:\n",
    "    def __init__(self,id,password):\n",
    "        self.id=id\n",
    "        self.password=password\n",
    "\n",
    "    def checklogin(self,id,password):\n",
    "        if (self.id==id and self.password==password):\n",
    "            \n",
    "            print(\"Successful Login\")\n",
    "        else:\n",
    "            print(\"Login Error\")\n",
    "\n",
    "log=login(\"rini\",\"rini\")\n",
    "id=input(\"Enter Username\")\n",
    "password=input(\"Enter Password\")\n",
    "log.checklogin(id,password)\n",
    "\n",
    "class account:\n",
    "    \n",
    "    def __init__(self,accountno,accountname,balance=0):\n",
    "        self.accountno=accountno\n",
    "        self.accountname=accountname\n",
    "        self.balance=balance\n",
    "    def deposit(self,amount):\n",
    "        if amount>0:\n",
    "            self.balance=self.balance+amount\n",
    "            print(f\"{amount} Deposited Successfully\")\n",
    "            print(\"Final Balance is\",self.balance)\n",
    "        else:\n",
    "            print(\"Amount must be Positive\")\n",
    "    def withdraw(self,amount):\n",
    "        if amount>self.balance:\n",
    "            print(\"There is no sufficient balance in your Account\")\n",
    "        elif amount<0:\n",
    "            print(\"Withdrawal Amount should be Positive\")\n",
    "        else:\n",
    "            self.balance=self.balance-amount\n",
    "            print(\"Amount withdrawn Successfully\")  \n",
    "            print(\"Remaining Balance is\",self.balance)  \n",
    "\n",
    "    def checkbalance(self):\n",
    "        print(f\"Balance:{self.balance}\")\n",
    "\n",
    "    def display(self):\n",
    "        print(f\"Account Number:{self.accountno}\")\n",
    "        print(f\"Account Name:{self.accountname}\")\n",
    "        print(f\"Balance:{self.balance}\")\n",
    "\n",
    "account1=account(123456,\"RiniSherin\", 100000)\n",
    "class Savings_Account(account):\n",
    "    def __init__(self, name, account_number, balance, interest_rate):\n",
    "        super().__init__(name, account_number, balance)\n",
    "        self.interest_rate = interest_rate\n",
    "\n",
    "    def add_interest(self):\n",
    "        interest = self.balance * self.interest_rate\n",
    "        self.deposit(interest)\n",
    "savings_account = Savings_Account(\"Sherin\", \"560235\", 200000,0.5)\n",
    "   \n",
    "while True:\n",
    "    print(\"Enter Your Choice(1/2/3/4/5\")\n",
    "    print(\"1.Deposit\")\n",
    "    print(\"2.Withdraw\")\n",
    "    print(\"3.Check Balance\")\n",
    "    print(\"4.Display All Accounts\")\n",
    "    print(\"5.Savings Account Add Interest\")\n",
    "    print(\"6.Exit\")\n",
    "    ch=input(\"Enter any choice\")\n",
    "    if ch=='1':\n",
    "        deposit=int(input(\"Enter the Amount to  Deposit\"))\n",
    "        account1.deposit(deposit)\n",
    "    elif ch=='2':    \n",
    "        amount=int(input(\"Enter the Amount for Withdrawal\"))\n",
    "        account1.withdraw(amount)\n",
    "    elif ch=='3':  \n",
    "        account1.checkbalance()\n",
    "    elif ch=='4':     \n",
    "        account1.display()\n",
    "        savings_account.display()\n",
    "    elif ch=='5':\n",
    "        savings_account.add_interest()\n",
    "        savings_account.display()\n",
    "    elif ch == '6':\n",
    "        print(\"Thank you\")\n",
    "        break\n",
    "    else:\n",
    "        print(\"Invalid choice\")"
   ]
  }
 ],
 "metadata": {
  "kernelspec": {
   "display_name": "Python 3 (ipykernel)",
   "language": "python",
   "name": "python3"
  },
  "language_info": {
   "codemirror_mode": {
    "name": "ipython",
    "version": 3
   },
   "file_extension": ".py",
   "mimetype": "text/x-python",
   "name": "python",
   "nbconvert_exporter": "python",
   "pygments_lexer": "ipython3",
   "version": "3.12.4"
  }
 },
 "nbformat": 4,
 "nbformat_minor": 5
}
